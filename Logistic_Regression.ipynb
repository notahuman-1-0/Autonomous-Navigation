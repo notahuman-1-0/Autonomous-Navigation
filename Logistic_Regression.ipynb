{
 "cells": [
  {
   "cell_type": "code",
   "execution_count": 1,
   "id": "437ec9a3",
   "metadata": {},
   "outputs": [],
   "source": [
    "import numpy as np\n",
    "import matplotlib.pyplot as plt\n",
    "import math as e"
   ]
  },
  {
   "cell_type": "code",
   "execution_count": 45,
   "id": "3aede271-e7b6-40f7-94f4-91121f50c26f",
   "metadata": {},
   "outputs": [],
   "source": [
    "def draw(x1,x2):\n",
    "    ln = plt.plot(x1,x2)\n",
    "    \n",
    "def sigmoid(score):\n",
    "    return 1.0/(1.0 + np.exp(-score))\n",
    "\n",
    "def calculate_error(line_parameters, points , y):\n",
    "  n=points.shape[0]\n",
    "  p= sigmoid(points*line_parameters)\n",
    "  cross_entropy=-(1/n)*(np.log(p).T*y + np.log(1-p).T*(1-y))\n",
    "  return cross_entropy"
   ]
  },
  {
   "cell_type": "code",
   "execution_count": 46,
   "id": "8768e0b1-8d82-473d-83eb-aa0b6e8a80f1",
   "metadata": {},
   "outputs": [
    {
     "data": {
      "text/plain": [
       "\"\\nn_pts=100\\n#random_x1_values = np.random.normal(10, 2 , n_pts)\\n#random_x2_values = np.random.normal(12, 2 , n_pts)\\nnp.random.seed(0)\\nbias = np.ones(n_pts)\\ntop_region = np.array([np.random.normal(10, 2 , n_pts), np.random.normal(12, 2 , n_pts), bias]).T\\nbottom_region = np.array([np.random.normal(5, 2, n_pts),np.random.normal(6, 2, n_pts), bias]).T\\nprint(all_points)\\nw1=-0.2\\nw2=-0.35\\nbias = 3.5\\nline_parameters = np.matrix([w1,w2,bias]) \\nbottom_region[:,0],top_region[:,1],color='r') \\n_, ax = plt.subplots(figsize=(4, 4))\\nall_points = np.vstack((top_region,bottom_region))\\nax.scatter(top_region[:,0],top_region[:,1],color='r')\\nax.scatter(bottom_region[:,0],bottom_region[:,1],color='b')\\nplt.show()\\n\""
      ]
     },
     "execution_count": 46,
     "metadata": {},
     "output_type": "execute_result"
    }
   ],
   "source": [
    "\"\"\"\n",
    "n_pts=100\n",
    "#random_x1_values = np.random.normal(10, 2 , n_pts)\n",
    "#random_x2_values = np.random.normal(12, 2 , n_pts)\n",
    "np.random.seed(0)\n",
    "bias = np.ones(n_pts)\n",
    "top_region = np.array([np.random.normal(10, 2 , n_pts), np.random.normal(12, 2 , n_pts), bias]).T\n",
    "bottom_region = np.array([np.random.normal(5, 2, n_pts),np.random.normal(6, 2, n_pts), bias]).T\n",
    "print(all_points)\n",
    "w1=-0.2\n",
    "w2=-0.35\n",
    "bias = 3.5\n",
    "line_parameters = np.matrix([w1,w2,bias]) \n",
    "bottom_region[:,0],top_region[:,1],color='r') \n",
    "_, ax = plt.subplots(figsize=(4, 4))\n",
    "all_points = np.vstack((top_region,bottom_region))\n",
    "ax.scatter(top_region[:,0],top_region[:,1],color='r')\n",
    "ax.scatter(bottom_region[:,0],bottom_region[:,1],color='b')\n",
    "plt.show()\n",
    "\"\"\""
   ]
  },
  {
   "cell_type": "code",
   "execution_count": 54,
   "id": "4ce119fc-8b6f-46c4-a14f-a075c0eb0a3b",
   "metadata": {},
   "outputs": [
    {
     "name": "stdout",
     "output_type": "stream",
     "text": [
      "[[0.]\n",
      " [0.]\n",
      " [0.]\n",
      " [0.]\n",
      " [0.]\n",
      " [0.]\n",
      " [0.]\n",
      " [0.]\n",
      " [0.]\n",
      " [0.]\n",
      " [1.]\n",
      " [1.]\n",
      " [1.]\n",
      " [1.]\n",
      " [1.]\n",
      " [1.]\n",
      " [1.]\n",
      " [1.]\n",
      " [1.]\n",
      " [1.]]\n"
     ]
    }
   ],
   "source": [
    "n_pts=10\n",
    "np.random.seed(0)\n",
    "bias= np.ones(n_pts)\n",
    "top_region=np.array([np.random.normal(10,2,n_pts), np.random.normal(12,2,n_pts), bias]).T\n",
    "bottom_region= np.array([np.random.normal(5,2, n_pts), np.random.normal(6,2, n_pts), bias]).T\n",
    "all_points=np.vstack((top_region, bottom_region))\n",
    "w1=-0.1\n",
    "w2=-0.15\n",
    "b=0\n",
    "line_parameters = np.matrix([w1,w2,b]).T\n",
    "x1=np.array([bottom_region[:,0].min(), top_region[:,0].max()])\n",
    "x2= -b/w2 + (x1*(-w1/w2))\n",
    "\n",
    "linear_combination= all_points*line_paramters \n",
    "probabilities= sigmoid(linear_combination)\n",
    "#print(probabilities)\n",
    "#print(all_points)\n",
    "y=np.array([np.zeros(n_pts),np.ones(n_pts)]).reshape(n_pts*2,1)\n",
    "print(y)"
   ]
  },
  {
   "cell_type": "code",
   "execution_count": 55,
   "id": "483f0be7-9cfb-40a7-8761-6ff56c09fa15",
   "metadata": {},
   "outputs": [
    {
     "data": {
      "image/png": "[encoded data removed]",
      "text/plain": [
       "<Figure size 288x288 with 1 Axes>"
      ]
     },
     "metadata": {
      "needs_background": "light"
     },
     "output_type": "display_data"
    }
   ],
   "source": [
    "#Plotting the plot\n",
    "_, ax = plt.subplots(figsize=(4, 4))\n",
    "ax.scatter(top_region[:,0],top_region[:,1],color='r')\n",
    "ax.scatter(bottom_region[:,0],bottom_region[:,1],color='b')\n",
    "draw(x1,x2)\n",
    "plt.show()"
   ]
  },
  {
   "cell_type": "code",
   "execution_count": 56,
   "id": "67bb2eec-d1a7-4eb1-8681-eccb1d215fb8",
   "metadata": {},
   "outputs": [
    {
     "name": "stdout",
     "output_type": "stream",
     "text": [
      "[[0.84528472]]\n"
     ]
    }
   ],
   "source": [
    "print((calculate_error(line_parameters,all_points,y)))"
   ]
  },
  {
   "cell_type": "code",
   "execution_count": null,
   "id": "76a38ae3-8f3d-4c5f-9888-a408bca7e311",
   "metadata": {},
   "outputs": [],
   "source": []
  }
 ],
 "metadata": {
  "kernelspec": {
   "display_name": "Python 3 (ipykernel)",
   "language": "python",
   "name": "python3"
  },
  "language_info": {
   "codemirror_mode": {
    "name": "ipython",
    "version": 3
   },
   "file_extension": ".py",
   "mimetype": "text/x-python",
   "name": "python",
   "nbconvert_exporter": "python",
   "pygments_lexer": "ipython3",
   "version": "3.9.7"
  }
 },
 "nbformat": 4,
 "nbformat_minor": 5
}
