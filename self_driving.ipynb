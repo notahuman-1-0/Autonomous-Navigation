{
 "cells": [
  {
   "cell_type": "code",
   "execution_count": 1,
   "id": "d98550ee",
   "metadata": {},
   "outputs": [
    {
     "name": "stdout",
     "output_type": "stream",
     "text": [
      "This noteboook is a python crash course\n"
     ]
    }
   ],
   "source": [
    "print(\"This noteboook is a python crash course\")"
   ]
  },
  {
   "cell_type": "code",
   "execution_count": 2,
   "id": "0a22a20a",
   "metadata": {},
   "outputs": [
    {
     "name": "stdout",
     "output_type": "stream",
     "text": [
      "2\n"
     ]
    }
   ],
   "source": [
    "print(1+1)"
   ]
  },
  {
   "cell_type": "code",
   "execution_count": 3,
   "id": "36cd5256",
   "metadata": {},
   "outputs": [
    {
     "data": {
      "text/plain": [
       "3"
      ]
     },
     "execution_count": 3,
     "metadata": {},
     "output_type": "execute_result"
    }
   ],
   "source": [
    "(1+2)"
   ]
  },
  {
   "cell_type": "code",
   "execution_count": 4,
   "id": "b3a3c4c1",
   "metadata": {},
   "outputs": [
    {
     "data": {
      "text/plain": [
       "1"
      ]
     },
     "execution_count": 4,
     "metadata": {},
     "output_type": "execute_result"
    }
   ],
   "source": [
    "(3-2)"
   ]
  },
  {
   "cell_type": "code",
   "execution_count": 5,
   "id": "b4a95e02",
   "metadata": {},
   "outputs": [
    {
     "data": {
      "text/plain": [
       "15"
      ]
     },
     "execution_count": 5,
     "metadata": {},
     "output_type": "execute_result"
    }
   ],
   "source": [
    "(3*5)"
   ]
  },
  {
   "cell_type": "code",
   "execution_count": 6,
   "id": "8d0e3c0a",
   "metadata": {},
   "outputs": [
    {
     "data": {
      "text/plain": [
       "2.0"
      ]
     },
     "execution_count": 6,
     "metadata": {},
     "output_type": "execute_result"
    }
   ],
   "source": [
    "(10/5)"
   ]
  },
  {
   "cell_type": "code",
   "execution_count": 7,
   "id": "33dd94f4",
   "metadata": {},
   "outputs": [
    {
     "data": {
      "text/plain": [
       "36"
      ]
     },
     "execution_count": 7,
     "metadata": {},
     "output_type": "execute_result"
    }
   ],
   "source": [
    "(6+9*3+3)"
   ]
  },
  {
   "cell_type": "code",
   "execution_count": 8,
   "id": "67a3bba4",
   "metadata": {},
   "outputs": [
    {
     "data": {
      "text/plain": [
       "0"
      ]
     },
     "execution_count": 8,
     "metadata": {},
     "output_type": "execute_result"
    }
   ],
   "source": [
    "6 % 2"
   ]
  },
  {
   "cell_type": "code",
   "execution_count": 9,
   "id": "294cc84e",
   "metadata": {},
   "outputs": [
    {
     "data": {
      "text/plain": [
       "1"
      ]
     },
     "execution_count": 9,
     "metadata": {},
     "output_type": "execute_result"
    }
   ],
   "source": [
    "9 % 2"
   ]
  },
  {
   "cell_type": "code",
   "execution_count": 10,
   "id": "fb892b35",
   "metadata": {},
   "outputs": [
    {
     "data": {
      "text/plain": [
       "36"
      ]
     },
     "execution_count": 10,
     "metadata": {},
     "output_type": "execute_result"
    }
   ],
   "source": [
    "6 ** 2"
   ]
  },
  {
   "cell_type": "code",
   "execution_count": 11,
   "id": "c4fa1cdd",
   "metadata": {},
   "outputs": [
    {
     "data": {
      "text/plain": [
       "6"
      ]
     },
     "execution_count": 11,
     "metadata": {},
     "output_type": "execute_result"
    }
   ],
   "source": [
    "13 // 2 "
   ]
  },
  {
   "cell_type": "code",
   "execution_count": 12,
   "id": "ad6a10c4",
   "metadata": {},
   "outputs": [
    {
     "data": {
      "text/plain": [
       "6.5"
      ]
     },
     "execution_count": 12,
     "metadata": {},
     "output_type": "execute_result"
    }
   ],
   "source": [
    "13 / 2"
   ]
  },
  {
   "cell_type": "code",
   "execution_count": 13,
   "id": "5714a893",
   "metadata": {},
   "outputs": [
    {
     "data": {
      "text/plain": [
       "18"
      ]
     },
     "execution_count": 13,
     "metadata": {},
     "output_type": "execute_result"
    }
   ],
   "source": [
    "age = 18\n",
    "age"
   ]
  },
  {
   "cell_type": "code",
   "execution_count": 14,
   "id": "96d08fe2",
   "metadata": {},
   "outputs": [],
   "source": [
    "age = 18\n",
    "name = 'Srinivas'\n",
    "gender = 'male'"
   ]
  },
  {
   "cell_type": "code",
   "execution_count": 15,
   "id": "f1b1646d",
   "metadata": {},
   "outputs": [],
   "source": [
    "age,name,gender = 18,'Srnivas','gender'"
   ]
  },
  {
   "cell_type": "code",
   "execution_count": 16,
   "id": "8a23034d",
   "metadata": {},
   "outputs": [],
   "source": [
    "blood_type = 'O+ve'"
   ]
  },
  {
   "cell_type": "code",
   "execution_count": 17,
   "id": "0c3b2434",
   "metadata": {},
   "outputs": [
    {
     "name": "stdout",
     "output_type": "stream",
     "text": [
      "2.3333333333333335\n"
     ]
    }
   ],
   "source": [
    "x = 7\n",
    "y = 3\n",
    "z = x/y\n",
    "print(z)"
   ]
  },
  {
   "cell_type": "code",
   "execution_count": 18,
   "id": "6b98522b",
   "metadata": {},
   "outputs": [
    {
     "data": {
      "text/plain": [
       "int"
      ]
     },
     "execution_count": 18,
     "metadata": {},
     "output_type": "execute_result"
    }
   ],
   "source": [
    "type(x)"
   ]
  },
  {
   "cell_type": "code",
   "execution_count": 19,
   "id": "bcda9fd9",
   "metadata": {},
   "outputs": [
    {
     "data": {
      "text/plain": [
       "int"
      ]
     },
     "execution_count": 19,
     "metadata": {},
     "output_type": "execute_result"
    }
   ],
   "source": [
    "type(y)"
   ]
  },
  {
   "cell_type": "code",
   "execution_count": 20,
   "id": "b957dec3",
   "metadata": {},
   "outputs": [
    {
     "data": {
      "text/plain": [
       "float"
      ]
     },
     "execution_count": 20,
     "metadata": {},
     "output_type": "execute_result"
    }
   ],
   "source": [
    "type(z)"
   ]
  },
  {
   "cell_type": "code",
   "execution_count": 21,
   "id": "9dec4073",
   "metadata": {},
   "outputs": [
    {
     "data": {
      "text/plain": [
       "2"
      ]
     },
     "execution_count": 21,
     "metadata": {},
     "output_type": "execute_result"
    }
   ],
   "source": [
    "int(7/3.5)"
   ]
  },
  {
   "cell_type": "code",
   "execution_count": 22,
   "id": "c8917e1c",
   "metadata": {},
   "outputs": [],
   "source": [
    "w=int(3.7)"
   ]
  },
  {
   "cell_type": "code",
   "execution_count": 23,
   "id": "a84c27b0",
   "metadata": {},
   "outputs": [
    {
     "data": {
      "text/plain": [
       "3"
      ]
     },
     "execution_count": 23,
     "metadata": {},
     "output_type": "execute_result"
    }
   ],
   "source": [
    "w"
   ]
  },
  {
   "cell_type": "code",
   "execution_count": 24,
   "id": "762dfcc1",
   "metadata": {},
   "outputs": [
    {
     "name": "stdout",
     "output_type": "stream",
     "text": [
      "3.0\n"
     ]
    }
   ],
   "source": [
    "some_float = float(3)\n",
    "print(some_float)"
   ]
  },
  {
   "cell_type": "code",
   "execution_count": 25,
   "id": "d119ad7a",
   "metadata": {},
   "outputs": [
    {
     "name": "stdout",
     "output_type": "stream",
     "text": [
      "Srinivas\n",
      "<class 'str'>\n"
     ]
    }
   ],
   "source": [
    "name = 'Srinivas'\n",
    "print(name)\n",
    "print(type(name))"
   ]
  },
  {
   "cell_type": "code",
   "execution_count": 26,
   "id": "f2e06795",
   "metadata": {},
   "outputs": [
    {
     "name": "stdout",
     "output_type": "stream",
     "text": [
      "Srinivas\n",
      "<class 'str'>\n"
     ]
    }
   ],
   "source": [
    "name = \"Srinivas\"\n",
    "print(name)\n",
    "print(type(name))"
   ]
  },
  {
   "cell_type": "code",
   "execution_count": 27,
   "id": "f5e885dd",
   "metadata": {},
   "outputs": [
    {
     "ename": "SyntaxError",
     "evalue": "invalid syntax (<ipython-input-27-0c8fe5802bfc>, line 1)",
     "output_type": "error",
     "traceback": [
      "\u001b[1;36m  File \u001b[1;32m\"<ipython-input-27-0c8fe5802bfc>\"\u001b[1;36m, line \u001b[1;32m1\u001b[0m\n\u001b[1;33m    dailogue = \"Srinivas said \"yo!\" to which the dude replied wassup! dude!!!\"\u001b[0m\n\u001b[1;37m                               ^\u001b[0m\n\u001b[1;31mSyntaxError\u001b[0m\u001b[1;31m:\u001b[0m invalid syntax\n"
     ]
    }
   ],
   "source": [
    "dailogue = \"Srinivas said \"yo!\" to which the dude replied wassup! dude!!!\"\n",
    "print(dialogue)"
   ]
  },
  {
   "cell_type": "code",
   "execution_count": 28,
   "id": "0a2a9577",
   "metadata": {},
   "outputs": [
    {
     "name": "stdout",
     "output_type": "stream",
     "text": [
      "Srinivas said \"yo!\" to which the dude replied wassup! dude!!!\n"
     ]
    }
   ],
   "source": [
    "dialogue = 'Srinivas said \"yo!\" to which the dude replied wassup! dude!!!'\n",
    "print(dialogue)"
   ]
  },
  {
   "cell_type": "code",
   "execution_count": 29,
   "id": "e1137345",
   "metadata": {},
   "outputs": [
    {
     "ename": "SyntaxError",
     "evalue": "invalid syntax (<ipython-input-29-157f8891f8dd>, line 1)",
     "output_type": "error",
     "traceback": [
      "\u001b[1;36m  File \u001b[1;32m\"<ipython-input-29-157f8891f8dd>\"\u001b[1;36m, line \u001b[1;32m1\u001b[0m\n\u001b[1;33m    dialogue_1 = 'Srinivas said you're crazy!'\u001b[0m\n\u001b[1;37m                                    ^\u001b[0m\n\u001b[1;31mSyntaxError\u001b[0m\u001b[1;31m:\u001b[0m invalid syntax\n"
     ]
    }
   ],
   "source": [
    "dialogue_1 = 'Srinivas said you're crazy!'\n",
    "print(dialogue_1)"
   ]
  },
  {
   "cell_type": "code",
   "execution_count": 30,
   "id": "c0933e26",
   "metadata": {},
   "outputs": [
    {
     "name": "stdout",
     "output_type": "stream",
     "text": [
      "Srinivas said you're crazy!\n"
     ]
    }
   ],
   "source": [
    "dialogue_1 = 'Srinivas said you\\'re crazy!'\n",
    "print(dialogue_1)"
   ]
  },
  {
   "cell_type": "code",
   "execution_count": 31,
   "id": "c846885b",
   "metadata": {},
   "outputs": [
    {
     "name": "stdout",
     "output_type": "stream",
     "text": [
      "I\u0007m 18 years old I\u0007m 18 years old I\u0007m 18 years old I\u0007m 18 years old I\u0007m 18 years old \n",
      "17\n"
     ]
    }
   ],
   "source": [
    "segment_one='I\\am 18'\n",
    "segment_two = 'years old'\n",
    "full = segment_one+\" \"+segment_two+\" \"\n",
    "print(full*5)\n",
    "print(len(full))"
   ]
  },
  {
   "cell_type": "code",
   "execution_count": 32,
   "id": "f4a04a89",
   "metadata": {},
   "outputs": [],
   "source": [
    "earth_is_flat=True\n",
    "earth_is_round=False"
   ]
  },
  {
   "cell_type": "code",
   "execution_count": 33,
   "id": "d9dfb78a",
   "metadata": {},
   "outputs": [
    {
     "name": "stdout",
     "output_type": "stream",
     "text": [
      "False\n"
     ]
    }
   ],
   "source": [
    "compare = 1>3\n",
    "print(compare)"
   ]
  },
  {
   "cell_type": "code",
   "execution_count": 34,
   "id": "2c0f4006",
   "metadata": {},
   "outputs": [
    {
     "name": "stdout",
     "output_type": "stream",
     "text": [
      "True\n"
     ]
    }
   ],
   "source": [
    "#logical operators -> and,or,not\n",
    "compare_1 = 1<2 or 3>5\n",
    "print(compare_1)"
   ]
  },
  {
   "cell_type": "code",
   "execution_count": 35,
   "id": "382abe27",
   "metadata": {},
   "outputs": [
    {
     "data": {
      "text/plain": [
       "'HARRY POTTER AND THE PRISONER OF AZKABAN'"
      ]
     },
     "execution_count": 35,
     "metadata": {},
     "output_type": "execute_result"
    }
   ],
   "source": [
    "movie_title = 'Harry Potter and the Prisoner of Azkaban'\n",
    "movie_title.upper()"
   ]
  },
  {
   "cell_type": "code",
   "execution_count": 36,
   "id": "6b72dbbb",
   "metadata": {},
   "outputs": [
    {
     "data": {
      "text/plain": [
       "'harry potter and the prisoner of azkaban'"
      ]
     },
     "execution_count": 36,
     "metadata": {},
     "output_type": "execute_result"
    }
   ],
   "source": [
    "movie_title.lower()"
   ]
  },
  {
   "cell_type": "code",
   "execution_count": 37,
   "id": "db2f3c03",
   "metadata": {},
   "outputs": [
    {
     "data": {
      "text/plain": [
       "4"
      ]
     },
     "execution_count": 37,
     "metadata": {},
     "output_type": "execute_result"
    }
   ],
   "source": [
    "movie_title.count('a') #number of times the letter a shows"
   ]
  },
  {
   "cell_type": "code",
   "execution_count": 38,
   "id": "b4f4c570",
   "metadata": {},
   "outputs": [
    {
     "name": "stdout",
     "output_type": "stream",
     "text": [
      "John\n",
      "Jane\n",
      "Joe\n"
     ]
    }
   ],
   "source": [
    "names = ['John','Jane','Joe']\n",
    "print(names[0])\n",
    "print(names[1])\n",
    "print(names[2])"
   ]
  },
  {
   "cell_type": "code",
   "execution_count": 39,
   "id": "55d2b862",
   "metadata": {},
   "outputs": [
    {
     "name": "stdout",
     "output_type": "stream",
     "text": [
      "['True', True, 1, 1.434, 'Srinivas']\n"
     ]
    }
   ],
   "source": [
    "random_datatypes_of_list = ['True',True,1,1.434,'Srinivas']\n",
    "print(random_datatypes_of_list)"
   ]
  },
  {
   "cell_type": "code",
   "execution_count": 40,
   "id": "0ef90c46",
   "metadata": {},
   "outputs": [],
   "source": [
    "length = len(random_datatypes_of_list)"
   ]
  },
  {
   "cell_type": "code",
   "execution_count": 41,
   "id": "6bb8d4ed",
   "metadata": {},
   "outputs": [
    {
     "name": "stdout",
     "output_type": "stream",
     "text": [
      "5\n"
     ]
    }
   ],
   "source": [
    "print(length)"
   ]
  },
  {
   "cell_type": "code",
   "execution_count": 42,
   "id": "19e5ee7a",
   "metadata": {},
   "outputs": [
    {
     "name": "stdout",
     "output_type": "stream",
     "text": [
      "Srinivas\n"
     ]
    }
   ],
   "source": [
    "print(random_datatypes_of_list[length-1])"
   ]
  },
  {
   "cell_type": "code",
   "execution_count": 43,
   "id": "ca615da0",
   "metadata": {},
   "outputs": [
    {
     "name": "stdout",
     "output_type": "stream",
     "text": [
      "Srinivas\n"
     ]
    }
   ],
   "source": [
    "print(random_datatypes_of_list[-1])"
   ]
  },
  {
   "cell_type": "code",
   "execution_count": 44,
   "id": "3c41cd78",
   "metadata": {},
   "outputs": [
    {
     "name": "stdout",
     "output_type": "stream",
     "text": [
      "1.434\n"
     ]
    }
   ],
   "source": [
    "print(random_datatypes_of_list[-2])"
   ]
  },
  {
   "cell_type": "code",
   "execution_count": 45,
   "id": "7093652c",
   "metadata": {},
   "outputs": [
    {
     "name": "stdout",
     "output_type": "stream",
     "text": [
      "1\n"
     ]
    }
   ],
   "source": [
    "print(random_datatypes_of_list[-3])"
   ]
  },
  {
   "cell_type": "code",
   "execution_count": 46,
   "id": "8b1b5601",
   "metadata": {},
   "outputs": [
    {
     "name": "stdout",
     "output_type": "stream",
     "text": [
      "[2, 3, 4, 5, 6, 7, 8, 9]\n",
      "[0, 1, 2, 3, 4, 5, 6, 7, 8, 9, 10]\n"
     ]
    }
   ],
   "source": [
    "ordered_numbers = [0,1,2,3,4,5,6,7,8,9,10]\n",
    "print(ordered_numbers[2:10])\n",
    "print(ordered_numbers)"
   ]
  },
  {
   "cell_type": "code",
   "execution_count": 47,
   "id": "cec0b7a9",
   "metadata": {},
   "outputs": [
    {
     "name": "stdout",
     "output_type": "stream",
     "text": [
      "[0, 1, 2, 3, 4, 5, 6, 7, 8, 9]\n"
     ]
    }
   ],
   "source": [
    "print(ordered_numbers[:10])"
   ]
  },
  {
   "cell_type": "code",
   "execution_count": 48,
   "id": "8c104ce1",
   "metadata": {},
   "outputs": [
    {
     "name": "stdout",
     "output_type": "stream",
     "text": [
      "[0, 1, 2, 3, 4, 5, 6, 7, 8, 9, 10]\n"
     ]
    }
   ],
   "source": [
    "print(ordered_numbers[:len(ordered_numbers)])"
   ]
  },
  {
   "cell_type": "code",
   "execution_count": 49,
   "id": "07325990",
   "metadata": {},
   "outputs": [
    {
     "name": "stdout",
     "output_type": "stream",
     "text": [
      "[0, 1, 2, 3, 4, 5, 6, 7, 8, 9, 10]\n"
     ]
    }
   ],
   "source": [
    "print(ordered_numbers[:])"
   ]
  },
  {
   "cell_type": "code",
   "execution_count": 50,
   "id": "1afcbf48",
   "metadata": {},
   "outputs": [
    {
     "name": "stdout",
     "output_type": "stream",
     "text": [
      "[0, 1, 2, 3, 4, 5, 6, 7, 8, 9]\n"
     ]
    }
   ],
   "source": [
    "print(list(range(0,10)))"
   ]
  },
  {
   "cell_type": "code",
   "execution_count": 51,
   "id": "8ef807db",
   "metadata": {},
   "outputs": [
    {
     "name": "stdout",
     "output_type": "stream",
     "text": [
      "[0, 3, 6, 9, 12, 15, 18, 21, 24, 27, 30, 33, 36, 39, 42, 45, 48]\n"
     ]
    }
   ],
   "source": [
    "print(list(range(0,50,3)))"
   ]
  },
  {
   "cell_type": "code",
   "execution_count": 52,
   "id": "4fd070ce",
   "metadata": {},
   "outputs": [
    {
     "name": "stdout",
     "output_type": "stream",
     "text": [
      "[50, 47, 44, 41, 38, 35, 32, 29, 26, 23, 20, 17, 14, 11, 8, 5, 2]\n"
     ]
    }
   ],
   "source": [
    "print(list(range(50,0,-3)))"
   ]
  },
  {
   "cell_type": "code",
   "execution_count": 53,
   "id": "be50430f",
   "metadata": {},
   "outputs": [
    {
     "data": {
      "text/plain": [
       "'me of thrones'"
      ]
     },
     "execution_count": 53,
     "metadata": {},
     "output_type": "execute_result"
    }
   ],
   "source": [
    "show_title =  'game of thrones'\n",
    "show_title[2:]"
   ]
  },
  {
   "cell_type": "code",
   "execution_count": 54,
   "id": "03e1a3c3",
   "metadata": {
    "scrolled": true
   },
   "outputs": [
    {
     "name": "stdout",
     "output_type": "stream",
     "text": [
      "False\n"
     ]
    }
   ],
   "source": [
    "months = ['January','February','March']\n",
    "print('June' in months)"
   ]
  },
  {
   "cell_type": "code",
   "execution_count": 55,
   "id": "663bf02c",
   "metadata": {},
   "outputs": [
    {
     "name": "stdout",
     "output_type": "stream",
     "text": [
      "True\n"
     ]
    }
   ],
   "source": [
    "print('January' in months)\n"
   ]
  },
  {
   "cell_type": "code",
   "execution_count": 56,
   "id": "c4da5aa0",
   "metadata": {},
   "outputs": [
    {
     "name": "stdout",
     "output_type": "stream",
     "text": [
      "True\n"
     ]
    }
   ],
   "source": [
    "print('Feb' not in months)"
   ]
  },
  {
   "cell_type": "code",
   "execution_count": 57,
   "id": "302f86fc",
   "metadata": {},
   "outputs": [
    {
     "name": "stdout",
     "output_type": "stream",
     "text": [
      "['Banana', 'apple', ['Mangoes']]\n"
     ]
    }
   ],
   "source": [
    "grocery_list = ['Banana','apple','Oranges']\n",
    "grocery_list[2] = ['Mangoes']\n",
    "print(grocery_list) #mutuable"
   ]
  },
  {
   "cell_type": "code",
   "execution_count": 58,
   "id": "63bd9786",
   "metadata": {},
   "outputs": [
    {
     "ename": "TypeError",
     "evalue": "'str' object does not support item assignment",
     "output_type": "error",
     "traceback": [
      "\u001b[1;31m---------------------------------------------------------------------------\u001b[0m",
      "\u001b[1;31mTypeError\u001b[0m                                 Traceback (most recent call last)",
      "\u001b[1;32m<ipython-input-58-19ab56d75103>\u001b[0m in \u001b[0;36m<module>\u001b[1;34m\u001b[0m\n\u001b[0;32m      1\u001b[0m \u001b[0mmisspelled_word\u001b[0m\u001b[1;33m=\u001b[0m\u001b[1;34m'smert'\u001b[0m\u001b[1;33m\u001b[0m\u001b[1;33m\u001b[0m\u001b[0m\n\u001b[1;32m----> 2\u001b[1;33m \u001b[0mmisspelled_word\u001b[0m\u001b[1;33m[\u001b[0m\u001b[1;36m2\u001b[0m\u001b[1;33m]\u001b[0m \u001b[1;33m=\u001b[0m \u001b[1;34m'a'\u001b[0m\u001b[1;33m\u001b[0m\u001b[1;33m\u001b[0m\u001b[0m\n\u001b[0m\u001b[0;32m      3\u001b[0m \u001b[0mprint\u001b[0m\u001b[1;33m(\u001b[0m\u001b[0mmisspelled_word\u001b[0m\u001b[1;33m)\u001b[0m \u001b[1;31m#not mutiable\u001b[0m\u001b[1;33m\u001b[0m\u001b[1;33m\u001b[0m\u001b[0m\n",
      "\u001b[1;31mTypeError\u001b[0m: 'str' object does not support item assignment"
     ]
    }
   ],
   "source": [
    "misspelled_word='smert'\n",
    "misspelled_word[2] = 'a'\n",
    "print(misspelled_word) #not mutiable"
   ]
  },
  {
   "cell_type": "code",
   "execution_count": null,
   "id": "d5653b99",
   "metadata": {},
   "outputs": [],
   "source": [
    "name='Ameer'\n",
    "other_name = name\n",
    "name = 'John'\n",
    "print(name)\n",
    "print(other_name)"
   ]
  },
  {
   "cell_type": "code",
   "execution_count": null,
   "id": "23d8fd2a",
   "metadata": {},
   "outputs": [],
   "source": [
    "books = ['The Catcher in the Rye' , \"The Mist\" , 'Lord of the Rings']\n",
    "more_books = books\n",
    "books[0] = 'A song of ice and fire'\n",
    "print(books[0])\n",
    "print(more_books)"
   ]
  },
  {
   "cell_type": "code",
   "execution_count": null,
   "id": "b8364c9c",
   "metadata": {
    "scrolled": false
   },
   "outputs": [],
   "source": [
    "\"\"\"\"\n",
    "len()-> returns the length of the passed argument\n",
    "max()-> return the maximum value in the passed argument\n",
    "min() -> return the minimum value in the passed argument\n",
    "''.join() -> joins all the elements of the list and returns it.\n",
    "format(_) -> it fills the {} with the given format specifier in a order\n",
    "append() -> add a new element to the existing list or any other mutuable datatype\n",
    "sorted() -> sorts the list from lowest to highest."
   ]
  },
  {
   "cell_type": "code",
   "execution_count": 59,
   "id": "b7e8cb5d",
   "metadata": {},
   "outputs": [
    {
     "data": {
      "text/plain": [
       "'e'"
      ]
     },
     "execution_count": 59,
     "metadata": {},
     "output_type": "execute_result"
    }
   ],
   "source": [
    "strings= [\"a\",\"e\",\"c\"]\n",
    "max(strings)"
   ]
  },
  {
   "cell_type": "code",
   "execution_count": 60,
   "id": "73dadf53",
   "metadata": {},
   "outputs": [
    {
     "data": {
      "text/plain": [
       "'a_e_c'"
      ]
     },
     "execution_count": 60,
     "metadata": {},
     "output_type": "execute_result"
    }
   ],
   "source": [
    "'_'.join(strings)"
   ]
  },
  {
   "cell_type": "code",
   "execution_count": 61,
   "id": "9a65f46f",
   "metadata": {},
   "outputs": [
    {
     "name": "stdout",
     "output_type": "stream",
     "text": [
      "This person is tall ,slim and skinny\n"
     ]
    }
   ],
   "source": [
    "print('This person is {} ,{} and {}'.format('tall','slim','skinny'))\n"
   ]
  },
  {
   "cell_type": "code",
   "execution_count": 62,
   "id": "63880009",
   "metadata": {},
   "outputs": [],
   "source": [
    "months=['Jan','Feb','Mar']\n",
    "months.append('Apr')"
   ]
  },
  {
   "cell_type": "code",
   "execution_count": 63,
   "id": "f5579cfd",
   "metadata": {},
   "outputs": [
    {
     "name": "stdout",
     "output_type": "stream",
     "text": [
      "['Jan', 'Feb', 'Mar', 'Apr']\n"
     ]
    }
   ],
   "source": [
    "print(months)"
   ]
  },
  {
   "cell_type": "code",
   "execution_count": 64,
   "id": "5723cba1",
   "metadata": {},
   "outputs": [
    {
     "data": {
      "text/plain": [
       "4"
      ]
     },
     "execution_count": 64,
     "metadata": {},
     "output_type": "execute_result"
    }
   ],
   "source": [
    "numbers= [4,3,7,4]\n",
    "len(numbers)"
   ]
  },
  {
   "cell_type": "code",
   "execution_count": 65,
   "id": "cdddf62c",
   "metadata": {},
   "outputs": [
    {
     "data": {
      "text/plain": [
       "[3, 4, 4, 7]"
      ]
     },
     "execution_count": 65,
     "metadata": {},
     "output_type": "execute_result"
    }
   ],
   "source": [
    "sorted(numbers)"
   ]
  },
  {
   "cell_type": "code",
   "execution_count": 67,
   "id": "09241ce8",
   "metadata": {},
   "outputs": [
    {
     "data": {
      "text/plain": [
       "False"
      ]
     },
     "execution_count": 67,
     "metadata": {},
     "output_type": "execute_result"
    }
   ],
   "source": [
    "\"thr\" in \"the goof\""
   ]
  },
  {
   "cell_type": "code",
   "execution_count": null,
   "id": "69d24cb7",
   "metadata": {},
   "outputs": [],
   "source": [
    "Lists : Mutable ordered sequence of elements.\n",
    "Tuples : Immutable ordered sequence of elements.\n",
    "Sets : Mutable,unordered , unique sequence of elements."
   ]
  },
  {
   "cell_type": "code",
   "execution_count": 69,
   "id": "8918c35b",
   "metadata": {},
   "outputs": [
    {
     "name": "stdout",
     "output_type": "stream",
     "text": [
      "tall slim\n"
     ]
    }
   ],
   "source": [
    "traits = ('tall','slim','blond')\n",
    "height = traits[0]\n",
    "build = traits[1]\n",
    "print(height,build)"
   ]
  },
  {
   "cell_type": "code",
   "execution_count": 70,
   "id": "3ce37e98",
   "metadata": {},
   "outputs": [],
   "source": [
    "height , build,hair = traits"
   ]
  },
  {
   "cell_type": "code",
   "execution_count": 76,
   "id": "c5a806bd",
   "metadata": {},
   "outputs": [
    {
     "name": "stdout",
     "output_type": "stream",
     "text": [
      "{1, 2, 3}\n"
     ]
    }
   ],
   "source": [
    "duplicate_numbers = [1,1,2,2,3,3]\n",
    "unique_number = set(duplicate_numbers)\n",
    "print(unique_number)"
   ]
  },
  {
   "cell_type": "code",
   "execution_count": 80,
   "id": "8ae293a3",
   "metadata": {},
   "outputs": [
    {
     "name": "stdout",
     "output_type": "stream",
     "text": [
      "{1, 2, 3, 4}\n"
     ]
    }
   ],
   "source": [
    "unique_number.add(4)\n",
    "print(unique_number)"
   ]
  },
  {
   "cell_type": "code",
   "execution_count": 81,
   "id": "551ea3c1",
   "metadata": {},
   "outputs": [
    {
     "ename": "AttributeError",
     "evalue": "'set' object has no attribute 'append'",
     "output_type": "error",
     "traceback": [
      "\u001b[1;31m---------------------------------------------------------------------------\u001b[0m",
      "\u001b[1;31mAttributeError\u001b[0m                            Traceback (most recent call last)",
      "\u001b[1;32m<ipython-input-81-438c5144e1ec>\u001b[0m in \u001b[0;36m<module>\u001b[1;34m\u001b[0m\n\u001b[1;32m----> 1\u001b[1;33m \u001b[0munique_number\u001b[0m\u001b[1;33m.\u001b[0m\u001b[0mappend\u001b[0m\u001b[1;33m(\u001b[0m\u001b[1;36m4\u001b[0m\u001b[1;33m)\u001b[0m\u001b[1;33m\u001b[0m\u001b[1;33m\u001b[0m\u001b[0m\n\u001b[0m\u001b[0;32m      2\u001b[0m \u001b[0mprint\u001b[0m\u001b[1;33m(\u001b[0m\u001b[0munique_number\u001b[0m\u001b[1;33m)\u001b[0m\u001b[1;33m\u001b[0m\u001b[1;33m\u001b[0m\u001b[0m\n",
      "\u001b[1;31mAttributeError\u001b[0m: 'set' object has no attribute 'append'"
     ]
    }
   ],
   "source": [
    "unique_number.append(4)\n",
    "print(unique_number)"
   ]
  },
  {
   "cell_type": "code",
   "execution_count": 83,
   "id": "a447a4b7",
   "metadata": {},
   "outputs": [
    {
     "name": "stdout",
     "output_type": "stream",
     "text": [
      "1.29\n"
     ]
    }
   ],
   "source": [
    "inventory = {'bananas' : 1.29, 'apples' : 1.82,'papayas' : 1.39}\n",
    "print(inventory['bananas'])"
   ]
  },
  {
   "cell_type": "code",
   "execution_count": 84,
   "id": "cbc8584e",
   "metadata": {},
   "outputs": [
    {
     "name": "stdout",
     "output_type": "stream",
     "text": [
      "{'bananas': 1.29, 'apples': 1.82, 'papayas': 1.39}\n"
     ]
    }
   ],
   "source": [
    "print(inventory)"
   ]
  },
  {
   "cell_type": "code",
   "execution_count": 85,
   "id": "244d4a21",
   "metadata": {},
   "outputs": [
    {
     "name": "stdout",
     "output_type": "stream",
     "text": [
      "{'bananas': 2.99, 'apples': 1.82, 'papayas': 1.39}\n"
     ]
    }
   ],
   "source": [
    "inventory['bananas'] = 2.99\n",
    "print(inventory)"
   ]
  },
  {
   "cell_type": "code",
   "execution_count": 86,
   "id": "fdc77ad1",
   "metadata": {},
   "outputs": [
    {
     "name": "stdout",
     "output_type": "stream",
     "text": [
      "2.99\n"
     ]
    }
   ],
   "source": [
    "bananas_price = inventory.get('bananas')\n",
    "print(bananas_price)"
   ]
  },
  {
   "cell_type": "code",
   "execution_count": 87,
   "id": "39f1d0a0",
   "metadata": {},
   "outputs": [
    {
     "name": "stdout",
     "output_type": "stream",
     "text": [
      "None\n"
     ]
    }
   ],
   "source": [
    "print(inventory.get('strawberries'))"
   ]
  },
  {
   "cell_type": "code",
   "execution_count": 88,
   "id": "13c70b56",
   "metadata": {},
   "outputs": [
    {
     "name": "stdout",
     "output_type": "stream",
     "text": [
      "True\n"
     ]
    }
   ],
   "source": [
    "print('papayas' in inventory)"
   ]
  },
  {
   "cell_type": "code",
   "execution_count": 54,
   "id": "f9dafd2d",
   "metadata": {},
   "outputs": [],
   "source": [
    "grocery_items = {'bananas' : { 'price' : 2.99, 'country of origin' : 'Guatamela'},\n",
    "                'apples' : {'price':1.29, 'country of origin': 'united Kingdom'},\n",
    "                 'papayas' : {'price' : 2.39,'country of origin':'Costa Rica'}}"
   ]
  },
  {
   "cell_type": "code",
   "execution_count": 55,
   "id": "27f05d6f",
   "metadata": {},
   "outputs": [
    {
     "name": "stdout",
     "output_type": "stream",
     "text": [
      "{'price': 1.29, 'country of origin': 'united Kingdom'}\n"
     ]
    }
   ],
   "source": [
    "print(grocery_items['apples'])"
   ]
  },
  {
   "cell_type": "code",
   "execution_count": 57,
   "id": "83369851",
   "metadata": {},
   "outputs": [
    {
     "name": "stdout",
     "output_type": "stream",
     "text": [
      "united Kingdom\n"
     ]
    }
   ],
   "source": [
    "print(grocery_items['apples']['country of origin'])"
   ]
  },
  {
   "cell_type": "code",
   "execution_count": 60,
   "id": "b2c094ce",
   "metadata": {},
   "outputs": [
    {
     "name": "stdout",
     "output_type": "stream",
     "text": [
      "Error 404\n"
     ]
    }
   ],
   "source": [
    "item = 'brussel sprouts'\n",
    "if item in grocery_items:\n",
    "    print(\"Found the items\")\n",
    "else:\n",
    "    print(\"Error 404\")\n",
    "    grocery_items.update({item:2.99})"
   ]
  },
  {
   "cell_type": "code",
   "execution_count": 61,
   "id": "b1533679",
   "metadata": {},
   "outputs": [
    {
     "name": "stdout",
     "output_type": "stream",
     "text": [
      "Hello\n"
     ]
    }
   ],
   "source": [
    "if item in grocery_items:\n",
    "    print(\"Hello\")"
   ]
  },
  {
   "cell_type": "code",
   "execution_count": 63,
   "id": "faedcf28",
   "metadata": {},
   "outputs": [
    {
     "name": "stdout",
     "output_type": "stream",
     "text": [
      "found the tomatoes\n"
     ]
    }
   ],
   "source": [
    "item,price = 'tomatoes',4.45\n",
    "if item in grocery_items:\n",
    "    print('found the',item)\n",
    "else:\n",
    "    print('could not find the',item)\n",
    "    grocery_items.update({item:2.99})\n",
    "    print('just added the item, here is the updated grocery list',grocery_items)"
   ]
  },
  {
   "cell_type": "code",
   "execution_count": 64,
   "id": "07a5d8fe",
   "metadata": {},
   "outputs": [
    {
     "name": "stdout",
     "output_type": "stream",
     "text": [
      "flow regime is transistional\n",
      "flow is transsitional\n"
     ]
    }
   ],
   "source": [
    "reynolds_number = 5000\n",
    "if 2000 < reynolds_number <10000:\n",
    "    print('flow regime is transistional')\n",
    "if reynolds_number > 2000 and reynolds_number <10000:\n",
    "    print('flow is transsitional')\n",
    "if reynolds_number <= 2000 or reynolds_number >= 10000:\n",
    "    print('flow is not transistional')"
   ]
  },
  {
   "cell_type": "code",
   "execution_count": 68,
   "id": "eadecb34",
   "metadata": {},
   "outputs": [
    {
     "ename": "TypeError",
     "evalue": "can only concatenate str (not \"int\") to str",
     "output_type": "error",
     "traceback": [
      "\u001b[1;31m---------------------------------------------------------------------------\u001b[0m",
      "\u001b[1;31mTypeError\u001b[0m                                 Traceback (most recent call last)",
      "\u001b[1;32m<ipython-input-68-26cfe56a9d56>\u001b[0m in \u001b[0;36m<module>\u001b[1;34m\u001b[0m\n\u001b[0;32m      1\u001b[0m \u001b[0mnumbers\u001b[0m \u001b[1;33m=\u001b[0m \u001b[1;33m[\u001b[0m\u001b[1;34m'1'\u001b[0m\u001b[1;33m,\u001b[0m\u001b[1;34m'2'\u001b[0m\u001b[1;33m,\u001b[0m\u001b[1;34m'3'\u001b[0m\u001b[1;33m,\u001b[0m\u001b[1;34m'4'\u001b[0m\u001b[1;33m,\u001b[0m\u001b[1;34m'5'\u001b[0m\u001b[1;33m]\u001b[0m\u001b[1;33m\u001b[0m\u001b[1;33m\u001b[0m\u001b[0m\n\u001b[0;32m      2\u001b[0m \u001b[1;32mfor\u001b[0m \u001b[0mi\u001b[0m \u001b[1;32min\u001b[0m \u001b[0mnumbers\u001b[0m\u001b[1;33m:\u001b[0m\u001b[1;33m\u001b[0m\u001b[1;33m\u001b[0m\u001b[0m\n\u001b[1;32m----> 3\u001b[1;33m     \u001b[0mprint\u001b[0m\u001b[1;33m(\u001b[0m\u001b[0mi\u001b[0m\u001b[1;33m+\u001b[0m\u001b[1;36m1\u001b[0m\u001b[1;33m)\u001b[0m\u001b[1;33m\u001b[0m\u001b[1;33m\u001b[0m\u001b[0m\n\u001b[0m",
      "\u001b[1;31mTypeError\u001b[0m: can only concatenate str (not \"int\") to str"
     ]
    }
   ],
   "source": [
    "numbers = ['1','2','3','4','5']\n",
    "for i in numbers:\n",
    "    print(i)"
   ]
  },
  {
   "cell_type": "code",
   "execution_count": 69,
   "id": "1de82ca0",
   "metadata": {},
   "outputs": [
    {
     "name": "stdout",
     "output_type": "stream",
     "text": [
      "1\n",
      "2\n",
      "3\n",
      "4\n",
      "5\n",
      "6\n",
      "7\n",
      "8\n",
      "9\n"
     ]
    }
   ],
   "source": [
    "for i in range(1,10):\n",
    "    print(i)"
   ]
  },
  {
   "cell_type": "code",
   "execution_count": 72,
   "id": "2b2657e7",
   "metadata": {},
   "outputs": [],
   "source": [
    "names = ['hillary','diana','brian']\n",
    "for index in range(len(names)):\n",
    "    names[index] = names[index].title()"
   ]
  },
  {
   "cell_type": "code",
   "execution_count": 73,
   "id": "defaca60",
   "metadata": {},
   "outputs": [
    {
     "name": "stdout",
     "output_type": "stream",
     "text": [
      "['Hillary', 'Diana', 'Brian']\n"
     ]
    }
   ],
   "source": [
    "print(names)"
   ]
  },
  {
   "cell_type": "code",
   "execution_count": 74,
   "id": "be72480f",
   "metadata": {},
   "outputs": [
    {
     "name": "stdout",
     "output_type": "stream",
     "text": [
      "The movie Titanic, was made in 1997\n",
      "The movie Finding Nemo, was made in 2003\n"
     ]
    }
   ],
   "source": [
    "movies = {'Titanic' : 1997, 'Finding Nemo':2003}\n",
    "\n",
    "for(key,value) in movies.items():\n",
    "    print('The movie {}, was made in {}'.format(key,value))"
   ]
  },
  {
   "cell_type": "code",
   "execution_count": 3,
   "id": "1956555c",
   "metadata": {},
   "outputs": [
    {
     "name": "stdout",
     "output_type": "stream",
     "text": [
      "20\n",
      "21\n",
      "22\n",
      "23\n",
      "24\n",
      "25\n",
      "26\n",
      "27\n",
      "28\n",
      "29\n",
      "30\n"
     ]
    }
   ],
   "source": [
    "random_number = 20\n",
    "while random_number <= 30:\n",
    "    print(random_number)\n",
    "    random_number+=1"
   ]
  },
  {
   "cell_type": "code",
   "execution_count": 9,
   "id": "72d13e5e",
   "metadata": {},
   "outputs": [
    {
     "name": "stdout",
     "output_type": "stream",
     "text": [
      "[0, 1, 2, 3, 4, 5, 6, 7, 8, 9]\n"
     ]
    }
   ],
   "source": [
    "numbers = list(range(0,10))\n",
    "print(numbers)"
   ]
  },
  {
   "cell_type": "code",
   "execution_count": 12,
   "id": "fdb821ff",
   "metadata": {},
   "outputs": [
    {
     "name": "stdout",
     "output_type": "stream",
     "text": [
      "0\n",
      "2\n",
      "4\n",
      "6\n",
      "8\n"
     ]
    }
   ],
   "source": [
    "for number in numbers:\n",
    "    if number % 2 != 0:\n",
    "        continue\n",
    "    print(number)\n",
    "        \n",
    "         "
   ]
  },
  {
   "cell_type": "code",
   "execution_count": 15,
   "id": "e47e9651",
   "metadata": {},
   "outputs": [],
   "source": [
    "def rectangle_area(length,width):\n",
    "    return length*width\n",
    "def square_area(length,width):\n",
    "    print(length*width)"
   ]
  },
  {
   "cell_type": "code",
   "execution_count": 16,
   "id": "f4480c8c",
   "metadata": {},
   "outputs": [
    {
     "name": "stdout",
     "output_type": "stream",
     "text": [
      "6\n",
      "9\n"
     ]
    }
   ],
   "source": [
    "print(rectangle_area(2,3))\n",
    "square_area(3,3)\n",
    "                    "
   ]
  },
  {
   "cell_type": "code",
   "execution_count": 19,
   "id": "542169be",
   "metadata": {},
   "outputs": [
    {
     "name": "stdout",
     "output_type": "stream",
     "text": [
      "3\n"
     ]
    }
   ],
   "source": [
    "number = 3 #Global Variable\n",
    "def random_function():\n",
    "    name = 'Bill' #Local Variable\n",
    "    print(number)\n",
    "random_function()\n",
    "    "
   ]
  },
  {
   "cell_type": "code",
   "execution_count": 22,
   "id": "1b2c552e",
   "metadata": {},
   "outputs": [],
   "source": [
    "def sample_function():\n",
    "    \"\"\"\n",
    "    This function is for this purpose and this is called a docstring.\n",
    "    \"\"\"\n",
    "    return (\"Docstring is the description of the function\")"
   ]
  },
  {
   "cell_type": "code",
   "execution_count": 27,
   "id": "75cd6685",
   "metadata": {},
   "outputs": [
    {
     "name": "stdout",
     "output_type": "stream",
     "text": [
      "[2, 4]\n"
     ]
    }
   ],
   "source": [
    "numbers = list(range(1,6))\n",
    "def even_or_odd(number):\n",
    "    return number%2==0\n",
    "print(list(filter(even_or_odd,numbers)))"
   ]
  },
  {
   "cell_type": "code",
   "execution_count": 31,
   "id": "c890f8dd",
   "metadata": {},
   "outputs": [
    {
     "name": "stdout",
     "output_type": "stream",
     "text": [
      "[2, 4]\n"
     ]
    }
   ],
   "source": [
    "numbers = [1,2,3,4,5]\n",
    "print(list(filter(lambda number : number %2 ==0 , numbers)))"
   ]
  },
  {
   "cell_type": "code",
   "execution_count": 32,
   "id": "68fe0277",
   "metadata": {},
   "outputs": [
    {
     "name": "stdout",
     "output_type": "stream",
     "text": [
      "5\n",
      "12\n",
      "17\n"
     ]
    }
   ],
   "source": [
    " ages = [5, 12, 17, 18, 24, 32]\n",
    "\n",
    "def myFunc(x):\n",
    "  if x < 18:\n",
    "    return True\n",
    "  else:\n",
    "    return False\n",
    "\n",
    "adults = filter(myFunc, ages)\n",
    "\n",
    "for x in adults:\n",
    "  print(x)"
   ]
  },
  {
   "cell_type": "code",
   "execution_count": 33,
   "id": "0fb61fd4",
   "metadata": {},
   "outputs": [
    {
     "name": "stdout",
     "output_type": "stream",
     "text": [
      "[1, 'jib']\n"
     ]
    }
   ],
   "source": [
    "numbers1 = list((1,'jib'))\n",
    "print(numbers1)\n"
   ]
  },
  {
   "cell_type": "code",
   "execution_count": 34,
   "id": "db1bc0c9",
   "metadata": {},
   "outputs": [],
   "source": [
    "list_two = list(range(1,4))\n",
    "list_three = list(range(1,4))\n",
    "list_sum=[]\n",
    "\n",
    "for index in range(3):\n",
    "    list_two[index] = list_two[index] ** 2\n",
    "    list_three[index] = list_three[index] ** 3\n",
    "    list_sum.append(list_two[index] + list_three[index])\n",
    "    "
   ]
  },
  {
   "cell_type": "code",
   "execution_count": 37,
   "id": "c13afe91",
   "metadata": {},
   "outputs": [
    {
     "name": "stdout",
     "output_type": "stream",
     "text": [
      "[1 2 3]\n"
     ]
    }
   ],
   "source": [
    "import numpy as np\n",
    "array_two = np.arange(1,4)\n",
    "print(array_two)"
   ]
  },
  {
   "cell_type": "code",
   "execution_count": 38,
   "id": "a211ef90",
   "metadata": {},
   "outputs": [
    {
     "name": "stdout",
     "output_type": "stream",
     "text": [
      "[1 4 9]\n"
     ]
    }
   ],
   "source": [
    "array_two = np.arange(1,4) ** 2\n",
    "print(array_two)"
   ]
  },
  {
   "cell_type": "code",
   "execution_count": 39,
   "id": "9be1f15d",
   "metadata": {},
   "outputs": [
    {
     "name": "stdout",
     "output_type": "stream",
     "text": [
      "[ 1  8 27]\n"
     ]
    }
   ],
   "source": [
    "array_three = np.arange(1,4)**3\n",
    "print(array_three)"
   ]
  },
  {
   "cell_type": "code",
   "execution_count": 40,
   "id": "56700454",
   "metadata": {},
   "outputs": [
    {
     "name": "stdout",
     "output_type": "stream",
     "text": [
      "[ 2 12 36]\n"
     ]
    }
   ],
   "source": [
    "print(array_two+array_three)"
   ]
  },
  {
   "cell_type": "code",
   "execution_count": 43,
   "id": "3f895cfe",
   "metadata": {},
   "outputs": [
    {
     "data": {
      "text/plain": [
       "array([ 1, 16, 81], dtype=int32)"
      ]
     },
     "execution_count": 43,
     "metadata": {},
     "output_type": "execute_result"
    }
   ],
   "source": [
    "np.power(np.array([1,2,3]),4)"
   ]
  },
  {
   "cell_type": "code",
   "execution_count": 44,
   "id": "591c7aed",
   "metadata": {},
   "outputs": [],
   "source": [
    "sample_array = np.array([1,2,3])"
   ]
  },
  {
   "cell_type": "code",
   "execution_count": 45,
   "id": "cfa2e503",
   "metadata": {},
   "outputs": [
    {
     "data": {
      "text/plain": [
       "array([ 2.71828183,  7.3890561 , 20.08553692])"
      ]
     },
     "execution_count": 45,
     "metadata": {},
     "output_type": "execute_result"
    }
   ],
   "source": [
    "np.exp(sample_array)"
   ]
  },
  {
   "cell_type": "code",
   "execution_count": 46,
   "id": "88b83d3f",
   "metadata": {},
   "outputs": [
    {
     "data": {
      "text/plain": [
       "array([0.        , 0.69314718, 1.09861229])"
      ]
     },
     "execution_count": 46,
     "metadata": {},
     "output_type": "execute_result"
    }
   ],
   "source": [
    "np.log(sample_array)"
   ]
  },
  {
   "cell_type": "code",
   "execution_count": 47,
   "id": "3d593176",
   "metadata": {},
   "outputs": [
    {
     "data": {
      "text/plain": [
       "array([0.84147098, 0.90929743, 0.14112001])"
      ]
     },
     "execution_count": 47,
     "metadata": {},
     "output_type": "execute_result"
    }
   ],
   "source": [
    "np.sin(sample_array)"
   ]
  },
  {
   "cell_type": "code",
   "execution_count": 48,
   "id": "352d95bb",
   "metadata": {},
   "outputs": [
    {
     "data": {
      "text/plain": [
       "array([ 0.54030231, -0.41614684, -0.9899925 ])"
      ]
     },
     "execution_count": 48,
     "metadata": {},
     "output_type": "execute_result"
    }
   ],
   "source": [
    "np.cos(sample_array)"
   ]
  },
  {
   "cell_type": "code",
   "execution_count": 50,
   "id": "14910896",
   "metadata": {},
   "outputs": [
    {
     "name": "stdout",
     "output_type": "stream",
     "text": [
      "[ 1.          1.18367347  1.36734694  1.55102041  1.73469388  1.91836735\n",
      "  2.10204082  2.28571429  2.46938776  2.65306122  2.83673469  3.02040816\n",
      "  3.20408163  3.3877551   3.57142857  3.75510204  3.93877551  4.12244898\n",
      "  4.30612245  4.48979592  4.67346939  4.85714286  5.04081633  5.2244898\n",
      "  5.40816327  5.59183673  5.7755102   5.95918367  6.14285714  6.32653061\n",
      "  6.51020408  6.69387755  6.87755102  7.06122449  7.24489796  7.42857143\n",
      "  7.6122449   7.79591837  7.97959184  8.16326531  8.34693878  8.53061224\n",
      "  8.71428571  8.89795918  9.08163265  9.26530612  9.44897959  9.63265306\n",
      "  9.81632653 10.        ]\n"
     ]
    }
   ],
   "source": [
    "w = np.linspace(1,10,50)\n",
    "print(w)"
   ]
  },
  {
   "cell_type": "code",
   "execution_count": 2,
   "id": "5cf5901d",
   "metadata": {},
   "outputs": [
    {
     "name": "stdout",
     "output_type": "stream",
     "text": [
      "[ 1.          1.18367347  1.36734694  1.55102041  1.73469388  1.91836735\n",
      "  2.10204082  2.28571429  2.46938776  2.65306122  2.83673469  3.02040816\n",
      "  3.20408163  3.3877551   3.57142857  3.75510204  3.93877551  4.12244898\n",
      "  4.30612245  4.48979592  4.67346939  4.85714286  5.04081633  5.2244898\n",
      "  5.40816327  5.59183673  5.7755102   5.95918367  6.14285714  6.32653061\n",
      "  6.51020408  6.69387755  6.87755102  7.06122449  7.24489796  7.42857143\n",
      "  7.6122449   7.79591837  7.97959184  8.16326531  8.34693878  8.53061224\n",
      "  8.71428571  8.89795918  9.08163265  9.26530612  9.44897959  9.63265306\n",
      "  9.81632653 10.        ]\n"
     ]
    }
   ],
   "source": [
    "import numpy as np\n",
    "t = np.linspace(1,10)\n",
    "print(t)"
   ]
  },
  {
   "cell_type": "code",
   "execution_count": 5,
   "id": "c3df2bdf",
   "metadata": {},
   "outputs": [
    {
     "name": "stdout",
     "output_type": "stream",
     "text": [
      "[[0 1 2]\n",
      " [0 1 2]]\n",
      "(2, 3)\n"
     ]
    }
   ],
   "source": [
    "import numpy as np\n",
    "\n",
    "x = np.arange(3)\n",
    "y = np.arange(3)\n",
    "z = np.arange(3)\n",
    "\n",
    "multi_array = np.array([y,z])\n",
    "print(multi_array)\n",
    "print(multi_array.shape)"
   ]
  },
  {
   "cell_type": "code",
   "execution_count": 6,
   "id": "ddb1303b",
   "metadata": {},
   "outputs": [
    {
     "data": {
      "text/plain": [
       "2"
      ]
     },
     "execution_count": 6,
     "metadata": {},
     "output_type": "execute_result"
    }
   ],
   "source": [
    "multi_array[1,2]"
   ]
  },
  {
   "cell_type": "code",
   "execution_count": 10,
   "id": "41ea629d",
   "metadata": {},
   "outputs": [
    {
     "name": "stdout",
     "output_type": "stream",
     "text": [
      "[[3 4 5]\n",
      " [4 5 6]\n",
      " [5 6 7]]\n",
      "(3, 3)\n"
     ]
    }
   ],
   "source": [
    "x = np.arange(3,6)\n",
    "y = np.arange(4,7)\n",
    "z = np.arange(5,8)\n",
    "multi_array = np.array([x,y,z])\n",
    "print(multi_array)\n",
    "print(multi_array.shape)"
   ]
  },
  {
   "cell_type": "code",
   "execution_count": 12,
   "id": "6169f732",
   "metadata": {},
   "outputs": [
    {
     "name": "stdout",
     "output_type": "stream",
     "text": [
      "int32\n"
     ]
    }
   ],
   "source": [
    "print(multi_array.dtype)"
   ]
  },
  {
   "cell_type": "code",
   "execution_count": 14,
   "id": "d197771b",
   "metadata": {},
   "outputs": [
    {
     "name": "stdout",
     "output_type": "stream",
     "text": [
      "[[3 4 5]\n",
      " [4 5 6]\n",
      " [5 6 7]]\n",
      "(3, 3)\n"
     ]
    }
   ],
   "source": [
    "\"\"\"\n",
    "x = np.arange(3,6)\n",
    "y = np.arange(4,7)\n",
    "z = np.arange(5,8)\n",
    "multi_array = np.array([x,y,z],dtype = np.int16)\n",
    "print(multi_array)\n",
    "print(multi_array.shape)"
   ]
  },
  {
   "cell_type": "code",
   "execution_count": 1,
   "id": "3312f771",
   "metadata": {},
   "outputs": [],
   "source": [
    "import numpy as np\n",
    "x = np.arange(1,10)"
   ]
  },
  {
   "cell_type": "code",
   "execution_count": 2,
   "id": "a6a8551e",
   "metadata": {},
   "outputs": [
    {
     "name": "stdout",
     "output_type": "stream",
     "text": [
      "[1 2 3 4 5 6 7 8 9]\n"
     ]
    }
   ],
   "source": [
    "print(x)"
   ]
  },
  {
   "cell_type": "code",
   "execution_count": 3,
   "id": "afe35e87",
   "metadata": {},
   "outputs": [
    {
     "name": "stdout",
     "output_type": "stream",
     "text": [
      "[3 4 5 6 7]\n"
     ]
    }
   ],
   "source": [
    "print(x[2:7])"
   ]
  },
  {
   "cell_type": "code",
   "execution_count": 4,
   "id": "2653df20",
   "metadata": {},
   "outputs": [
    {
     "name": "stdout",
     "output_type": "stream",
     "text": [
      "[3 5 7]\n"
     ]
    }
   ],
   "source": [
    "print(x[2:7:2])"
   ]
  },
  {
   "cell_type": "code",
   "execution_count": 5,
   "id": "b7dd6afc",
   "metadata": {},
   "outputs": [
    {
     "name": "stdout",
     "output_type": "stream",
     "text": [
      "[1 2 3 4 5 6 7]\n"
     ]
    }
   ],
   "source": [
    "print(x[:7])"
   ]
  },
  {
   "cell_type": "code",
   "execution_count": 1,
   "id": "88e67758",
   "metadata": {},
   "outputs": [
    {
     "name": "stdout",
     "output_type": "stream",
     "text": [
      "[0 1 2 3 4 5 6 7 8]\n"
     ]
    }
   ],
   "source": [
    "import numpy as np\n",
    "x=np.arange(9)\n",
    "print(x)"
   ]
  },
  {
   "cell_type": "code",
   "execution_count": 2,
   "id": "43f2eaed",
   "metadata": {},
   "outputs": [
    {
     "name": "stdout",
     "output_type": "stream",
     "text": [
      "[[0 1 2]\n",
      " [3 4 5]\n",
      " [6 7 8]]\n"
     ]
    }
   ],
   "source": [
    "import numpy as np\n",
    "x=np.arange(9).reshape(3,3)\n",
    "print(x)"
   ]
  },
  {
   "cell_type": "code",
   "execution_count": 3,
   "id": "22b45d25",
   "metadata": {},
   "outputs": [
    {
     "name": "stdout",
     "output_type": "stream",
     "text": [
      "[[[ 0  1  2]\n",
      "  [ 3  4  5]\n",
      "  [ 6  7  8]]\n",
      "\n",
      " [[ 9 10 11]\n",
      "  [12 13 14]\n",
      "  [15 16 17]]]\n"
     ]
    }
   ],
   "source": [
    "import numpy as np\n",
    "x=np.arange(18).reshape(2,3,3)\n",
    "print(x)"
   ]
  },
  {
   "cell_type": "code",
   "execution_count": 4,
   "id": "1357e804",
   "metadata": {},
   "outputs": [
    {
     "name": "stdout",
     "output_type": "stream",
     "text": [
      "[[0 1 2]\n",
      " [3 4 5]\n",
      " [6 7 8]]\n"
     ]
    }
   ],
   "source": [
    "import numpy as np\n",
    "x=np.arange(9).reshape(3,3)\n",
    "print(x)"
   ]
  },
  {
   "cell_type": "code",
   "execution_count": 5,
   "id": "2ba00d8a",
   "metadata": {},
   "outputs": [
    {
     "data": {
      "text/plain": [
       "7"
      ]
     },
     "execution_count": 5,
     "metadata": {},
     "output_type": "execute_result"
    }
   ],
   "source": [
    "x[2,1]"
   ]
  },
  {
   "cell_type": "code",
   "execution_count": 6,
   "id": "58e95b68",
   "metadata": {},
   "outputs": [
    {
     "name": "stdout",
     "output_type": "stream",
     "text": [
      "[[[ 0  1  2]\n",
      "  [ 3  4  5]]\n",
      "\n",
      " [[ 6  7  8]\n",
      "  [ 9 10 11]]\n",
      "\n",
      " [[12 13 14]\n",
      "  [15 16 17]]]\n"
     ]
    }
   ],
   "source": [
    "import numpy as np\n",
    "x=np.arange(18).reshape(3,2,3)\n",
    "print(x)"
   ]
  },
  {
   "cell_type": "code",
   "execution_count": 7,
   "id": "217f5666",
   "metadata": {},
   "outputs": [
    {
     "data": {
      "text/plain": [
       "10"
      ]
     },
     "execution_count": 7,
     "metadata": {},
     "output_type": "execute_result"
    }
   ],
   "source": [
    "x[1,1,1]"
   ]
  },
  {
   "cell_type": "code",
   "execution_count": 10,
   "id": "940f027c",
   "metadata": {},
   "outputs": [
    {
     "data": {
      "text/plain": [
       "array([[ 6,  7,  8],\n",
       "       [ 9, 10, 11]])"
      ]
     },
     "execution_count": 10,
     "metadata": {},
     "output_type": "execute_result"
    }
   ],
   "source": [
    "x[1,0:2,0:3]"
   ]
  },
  {
   "cell_type": "code",
   "execution_count": 11,
   "id": "53f47688",
   "metadata": {},
   "outputs": [
    {
     "data": {
      "text/plain": [
       "array([[ 6,  8],\n",
       "       [ 9, 11]])"
      ]
     },
     "execution_count": 11,
     "metadata": {},
     "output_type": "execute_result"
    }
   ],
   "source": [
    "x[1,:2,:3:2]"
   ]
  },
  {
   "cell_type": "code",
   "execution_count": 12,
   "id": "a35762af",
   "metadata": {},
   "outputs": [
    {
     "name": "stdout",
     "output_type": "stream",
     "text": [
      "[[[False False False]\n",
      "  [False False False]]\n",
      "\n",
      " [[ True  True  True]\n",
      "  [ True  True  True]]\n",
      "\n",
      " [[ True  True  True]\n",
      "  [ True  True  True]]]\n"
     ]
    }
   ],
   "source": [
    "comparison_operation = x>5\n",
    "print(comparison_operation)"
   ]
  },
  {
   "cell_type": "code",
   "execution_count": 13,
   "id": "cceb4190",
   "metadata": {},
   "outputs": [
    {
     "name": "stdout",
     "output_type": "stream",
     "text": [
      "[[[False False False]\n",
      "  [False False False]]\n",
      "\n",
      " [[ True  True  True]\n",
      "  [ True  True  True]]\n",
      "\n",
      " [[ True  True  True]\n",
      "  [ True  True  True]]]\n"
     ]
    }
   ],
   "source": [
    "print(x>5)"
   ]
  },
  {
   "cell_type": "code",
   "execution_count": 15,
   "id": "d6b0ddc3",
   "metadata": {},
   "outputs": [
    {
     "data": {
      "text/plain": [
       "array([ 6,  7,  8,  9, 10, 11, 12, 13, 14, 15, 16, 17])"
      ]
     },
     "execution_count": 15,
     "metadata": {},
     "output_type": "execute_result"
    }
   ],
   "source": [
    "x[comparison_operation]"
   ]
  },
  {
   "cell_type": "code",
   "execution_count": 16,
   "id": "e98695d9",
   "metadata": {},
   "outputs": [
    {
     "data": {
      "text/plain": [
       "array([ 6,  7,  8,  9, 10, 11, 12, 13, 14, 15, 16, 17])"
      ]
     },
     "execution_count": 16,
     "metadata": {},
     "output_type": "execute_result"
    }
   ],
   "source": [
    "x[x>5]"
   ]
  },
  {
   "cell_type": "code",
   "execution_count": 17,
   "id": "e5f405ab",
   "metadata": {},
   "outputs": [
    {
     "data": {
      "text/plain": [
       "17"
      ]
     },
     "execution_count": 17,
     "metadata": {},
     "output_type": "execute_result"
    }
   ],
   "source": [
    "x.max()"
   ]
  },
  {
   "cell_type": "code",
   "execution_count": 18,
   "id": "697bf127",
   "metadata": {},
   "outputs": [
    {
     "data": {
      "text/plain": [
       "0"
      ]
     },
     "execution_count": 18,
     "metadata": {},
     "output_type": "execute_result"
    }
   ],
   "source": [
    "x.min()"
   ]
  },
  {
   "cell_type": "code",
   "execution_count": 19,
   "id": "b5a69966",
   "metadata": {},
   "outputs": [],
   "source": [
    "# ravel() -> takes a multi-dimensional array as an input and returns a single-dimensional array as an output"
   ]
  },
  {
   "cell_type": "code",
   "execution_count": 20,
   "id": "96439a97",
   "metadata": {},
   "outputs": [
    {
     "name": "stdout",
     "output_type": "stream",
     "text": [
      "[ 0  1  2  3  4  5  6  7  8  9 10 11 12 13 14 15 16 17]\n"
     ]
    }
   ],
   "source": [
    "ravelled_array = x.ravel()\n",
    "print(ravelled_array)"
   ]
  },
  {
   "cell_type": "code",
   "execution_count": 21,
   "id": "1100dfd0",
   "metadata": {},
   "outputs": [
    {
     "name": "stdout",
     "output_type": "stream",
     "text": [
      "[ 0  1  2  3  4  5  6  7  8  9 10 11 12 13 14 15 16 17]\n"
     ]
    }
   ],
   "source": [
    "flattened_array = x.flatten()\n",
    "print(flattened_array)"
   ]
  },
  {
   "cell_type": "code",
   "execution_count": 23,
   "id": "fc3a0db9",
   "metadata": {},
   "outputs": [
    {
     "name": "stdout",
     "output_type": "stream",
     "text": [
      "[       0        1 10000000        3        4        5        6        7\n",
      "        8        9       10       11       12       13       14       15\n",
      "       16       17]\n"
     ]
    }
   ],
   "source": [
    "ravelled_array = x.ravel()\n",
    "ravelled_array[2] = 10000000\n",
    "print(ravelled_array)"
   ]
  },
  {
   "cell_type": "code",
   "execution_count": 24,
   "id": "ace8071c",
   "metadata": {},
   "outputs": [
    {
     "name": "stdout",
     "output_type": "stream",
     "text": [
      "[[[       0        1 10000000]\n",
      "  [       3        4        5]]\n",
      "\n",
      " [[       6        7        8]\n",
      "  [       9       10       11]]\n",
      "\n",
      " [[      12       13       14]\n",
      "  [      15       16       17]]]\n"
     ]
    }
   ],
   "source": [
    "print(x)"
   ]
  },
  {
   "cell_type": "code",
   "execution_count": 25,
   "id": "6de1cf08",
   "metadata": {},
   "outputs": [
    {
     "name": "stdout",
     "output_type": "stream",
     "text": [
      "[ 0  1  2  3  4  5  6  7  8  9 10 11 12 13 14 15 16 17]\n"
     ]
    }
   ],
   "source": [
    "ravelled_array = x.ravel()\n",
    "ravelled_array[2] = 2\n",
    "print(ravelled_array)"
   ]
  },
  {
   "cell_type": "code",
   "execution_count": 27,
   "id": "8316af06",
   "metadata": {},
   "outputs": [
    {
     "name": "stdout",
     "output_type": "stream",
     "text": [
      "[     0      1 100000      3      4      5      6      7      8      9\n",
      "     10     11     12     13     14     15     16     17]\n",
      "          \n",
      "[[[ 0  1  2]\n",
      "  [ 3  4  5]]\n",
      "\n",
      " [[ 6  7  8]\n",
      "  [ 9 10 11]]\n",
      "\n",
      " [[12 13 14]\n",
      "  [15 16 17]]]\n"
     ]
    }
   ],
   "source": [
    "flattened_array = x.flatten()\n",
    "flattened_array[2] = 100000\n",
    "print(flattened_array)\n",
    "print(\"          \")\n",
    "print(x)"
   ]
  },
  {
   "cell_type": "code",
   "execution_count": 28,
   "id": "c9107ffd",
   "metadata": {},
   "outputs": [
    {
     "name": "stdout",
     "output_type": "stream",
     "text": [
      "[[0 1 2]\n",
      " [3 4 5]\n",
      " [6 7 8]]\n"
     ]
    }
   ],
   "source": [
    "y = np.arange(9)\n",
    "y.shape = [3,3]\n",
    "print(y)"
   ]
  },
  {
   "cell_type": "code",
   "execution_count": 30,
   "id": "62313712",
   "metadata": {},
   "outputs": [
    {
     "name": "stdout",
     "output_type": "stream",
     "text": [
      "[[0 3 6]\n",
      " [1 4 7]\n",
      " [2 5 8]]\n"
     ]
    }
   ],
   "source": [
    "print(y.transpose())"
   ]
  },
  {
   "cell_type": "code",
   "execution_count": 31,
   "id": "cd6d1c61",
   "metadata": {},
   "outputs": [
    {
     "name": "stdout",
     "output_type": "stream",
     "text": [
      "[[0 3 6]\n",
      " [1 4 7]\n",
      " [2 5 8]]\n"
     ]
    }
   ],
   "source": [
    "print(y.T)"
   ]
  },
  {
   "cell_type": "code",
   "execution_count": 32,
   "id": "861d77e1",
   "metadata": {},
   "outputs": [
    {
     "name": "stdout",
     "output_type": "stream",
     "text": [
      "[[0 1 2 3 4 5]\n",
      " [6 7 8 0 1 2]\n",
      " [3 4 5 6 7 8]\n",
      " [0 1 2 3 4 5]\n",
      " [6 7 8 0 1 2]\n",
      " [3 4 5 6 7 8]]\n"
     ]
    }
   ],
   "source": [
    "print(np.resize(y,(6,6)))"
   ]
  },
  {
   "cell_type": "code",
   "execution_count": 37,
   "id": "e0c40a8b",
   "metadata": {},
   "outputs": [
    {
     "data": {
      "text/plain": [
       "array([0, 0, 0, 0, 0, 0])"
      ]
     },
     "execution_count": 37,
     "metadata": {},
     "output_type": "execute_result"
    }
   ],
   "source": [
    "np.zeros((6,) , dtype=int)"
   ]
  },
  {
   "cell_type": "code",
   "execution_count": 38,
   "id": "8543dd2b",
   "metadata": {},
   "outputs": [
    {
     "data": {
      "text/plain": [
       "array([[0, 0, 0],\n",
       "       [0, 0, 0]])"
      ]
     },
     "execution_count": 38,
     "metadata": {},
     "output_type": "execute_result"
    }
   ],
   "source": [
    "np.zeros((2,3) , dtype=int)"
   ]
  },
  {
   "cell_type": "code",
   "execution_count": 40,
   "id": "e9135307",
   "metadata": {},
   "outputs": [
    {
     "data": {
      "text/plain": [
       "array([1, 1, 1, 1, 1, 1])"
      ]
     },
     "execution_count": 40,
     "metadata": {},
     "output_type": "execute_result"
    }
   ],
   "source": [
    "np.ones((6,) , dtype=int)"
   ]
  },
  {
   "cell_type": "code",
   "execution_count": 42,
   "id": "fb75c9dd",
   "metadata": {},
   "outputs": [
    {
     "name": "stdout",
     "output_type": "stream",
     "text": [
      "[[1. 0. 0.]\n",
      " [0. 1. 0.]\n",
      " [0. 0. 1.]]\n"
     ]
    }
   ],
   "source": [
    "print(np.eye(3))"
   ]
  },
  {
   "cell_type": "code",
   "execution_count": 44,
   "id": "ae9f5d27",
   "metadata": {},
   "outputs": [
    {
     "data": {
      "text/plain": [
       "array([[0.68628583, 0.26610996, 0.68785664],\n",
       "       [0.35056838, 0.13153591, 0.78161065],\n",
       "       [0.82885378, 0.38730791, 0.43605078]])"
      ]
     },
     "execution_count": 44,
     "metadata": {},
     "output_type": "execute_result"
    }
   ],
   "source": [
    "np.random.rand(3,3)"
   ]
  },
  {
   "cell_type": "code",
   "execution_count": 46,
   "id": "17beec53",
   "metadata": {},
   "outputs": [
    {
     "data": {
      "text/plain": [
       "matrix([[0, 3, 5],\n",
       "        [5, 5, 2]])"
      ]
     },
     "execution_count": 46,
     "metadata": {},
     "output_type": "execute_result"
    }
   ],
   "source": [
    "mat_a = np.matrix([0,3,5,5,5,2]).reshape(2,3)\n",
    "mat_a"
   ]
  },
  {
   "cell_type": "code",
   "execution_count": 47,
   "id": "2a4fca70",
   "metadata": {},
   "outputs": [
    {
     "data": {
      "text/plain": [
       "matrix([[ 3,  4],\n",
       "        [ 3, -2],\n",
       "        [ 4, -2]])"
      ]
     },
     "execution_count": 47,
     "metadata": {},
     "output_type": "execute_result"
    }
   ],
   "source": [
    "mat_b = np.matrix([3,4,3,-2,4,-2]).reshape(3,2)\n",
    "mat_b"
   ]
  },
  {
   "cell_type": "code",
   "execution_count": 48,
   "id": "9d08619b",
   "metadata": {},
   "outputs": [
    {
     "data": {
      "text/plain": [
       "matrix([[ 29, -16],\n",
       "        [ 38,   6]])"
      ]
     },
     "execution_count": 48,
     "metadata": {},
     "output_type": "execute_result"
    }
   ],
   "source": [
    "mat_a*mat_b"
   ]
  },
  {
   "cell_type": "code",
   "execution_count": 49,
   "id": "b62f4fe8",
   "metadata": {},
   "outputs": [
    {
     "data": {
      "text/plain": [
       "matrix([[ 29, -16],\n",
       "        [ 38,   6]])"
      ]
     },
     "execution_count": 49,
     "metadata": {},
     "output_type": "execute_result"
    }
   ],
   "source": [
    "product = np.matmul(mat_a,mat_b)\n",
    "product"
   ]
  },
  {
   "cell_type": "code",
   "execution_count": 51,
   "id": "29e9bbb4",
   "metadata": {},
   "outputs": [
    {
     "data": {
      "text/plain": [
       "'\\nmat_a = np.array([0,3,5,5,5,2]).reshape(2,3)\\nmat_a\\nmat_b = np.array([3,4,3,-2,4,-2]).reshape(3,2)\\nmat_b\\n'"
      ]
     },
     "execution_count": 51,
     "metadata": {},
     "output_type": "execute_result"
    }
   ],
   "source": [
    "\"\"\"\n",
    "mat_a = np.array([0,3,5,5,5,2]).reshape(2,3)\n",
    "mat_a\n",
    "mat_b = np.array([3,4,3,-2,4,-2]).reshape(3,2)\n",
    "mat_b\n",
    "\"\"\""
   ]
  },
  {
   "cell_type": "code",
   "execution_count": 52,
   "id": "eac857b4",
   "metadata": {},
   "outputs": [
    {
     "data": {
      "text/plain": [
       "matrix([[ 29, -16],\n",
       "        [ 38,   6]])"
      ]
     },
     "execution_count": 52,
     "metadata": {},
     "output_type": "execute_result"
    }
   ],
   "source": [
    "mat_a @ mat_b"
   ]
  },
  {
   "cell_type": "code",
   "execution_count": 54,
   "id": "2195d6f1",
   "metadata": {},
   "outputs": [
    {
     "name": "stdout",
     "output_type": "stream",
     "text": [
      "[[0 1]\n",
      " [2 3]]\n"
     ]
    }
   ],
   "source": [
    "x = np.arange(4).reshape(2,2)\n",
    "print(x)"
   ]
  },
  {
   "cell_type": "code",
   "execution_count": 55,
   "id": "196c6496",
   "metadata": {},
   "outputs": [
    {
     "name": "stdout",
     "output_type": "stream",
     "text": [
      "[[4 5]\n",
      " [6 7]]\n"
     ]
    }
   ],
   "source": [
    "y = np.arange(4,8).reshape(2,2)\n",
    "print(y)"
   ]
  },
  {
   "cell_type": "code",
   "execution_count": 56,
   "id": "3dd713de",
   "metadata": {},
   "outputs": [],
   "source": [
    "z = np.hstack((x,y))"
   ]
  },
  {
   "cell_type": "code",
   "execution_count": 58,
   "id": "c3f11ae0",
   "metadata": {},
   "outputs": [
    {
     "name": "stdout",
     "output_type": "stream",
     "text": [
      "[[0 1 4 5]\n",
      " [2 3 6 7]]\n",
      "(2, 4)\n"
     ]
    }
   ],
   "source": [
    "print(z)\n",
    "print(z.shape)"
   ]
  },
  {
   "cell_type": "code",
   "execution_count": 60,
   "id": "996b595c",
   "metadata": {},
   "outputs": [
    {
     "name": "stdout",
     "output_type": "stream",
     "text": [
      "[[0 1]\n",
      " [2 3]\n",
      " [4 5]\n",
      " [6 7]]\n"
     ]
    }
   ],
   "source": [
    "a = np.arange(8).reshape(4,2)\n",
    "print(a)"
   ]
  },
  {
   "cell_type": "code",
   "execution_count": 61,
   "id": "7f0e802b",
   "metadata": {},
   "outputs": [
    {
     "name": "stdout",
     "output_type": "stream",
     "text": [
      "[[0 1]\n",
      " [2 3]\n",
      " [0 1]\n",
      " [2 3]\n",
      " [4 5]\n",
      " [6 7]]\n",
      "(6, 2)\n"
     ]
    }
   ],
   "source": [
    "b = np.vstack((x,a))\n",
    "print(b)\n",
    "print(b.shape)"
   ]
  },
  {
   "cell_type": "code",
   "execution_count": 63,
   "id": "ef886437",
   "metadata": {},
   "outputs": [
    {
     "name": "stdout",
     "output_type": "stream",
     "text": [
      "[[0 1]\n",
      " [2 3]\n",
      " [4 5]\n",
      " [6 7]]\n"
     ]
    }
   ],
   "source": [
    "w =np.concatenate((x,y),axis =0)\n",
    "print(w)"
   ]
  },
  {
   "cell_type": "code",
   "execution_count": 65,
   "id": "d6c1fc3c",
   "metadata": {},
   "outputs": [
    {
     "name": "stdout",
     "output_type": "stream",
     "text": [
      "False\n"
     ]
    },
    {
     "name": "stderr",
     "output_type": "stream",
     "text": [
      "<ipython-input-65-0e29b4963dfb>:2: DeprecationWarning: elementwise comparison failed; this will raise an error in the future.\n",
      "  print(z == w)\n"
     ]
    }
   ],
   "source": [
    "z = np.hstack((x,y))\n",
    "print(z == w)"
   ]
  },
  {
   "cell_type": "code",
   "execution_count": 66,
   "id": "f606ceb5",
   "metadata": {},
   "outputs": [
    {
     "name": "stdout",
     "output_type": "stream",
     "text": [
      "[[[0 4]\n",
      "  [1 5]]\n",
      "\n",
      " [[2 6]\n",
      "  [3 7]]]\n"
     ]
    }
   ],
   "source": [
    "depth_stack = np.dstack((x,y))\n",
    "print(depth_stack)"
   ]
  },
  {
   "cell_type": "code",
   "execution_count": 67,
   "id": "044bd495",
   "metadata": {},
   "outputs": [
    {
     "name": "stdout",
     "output_type": "stream",
     "text": [
      "(2, 2, 2)\n"
     ]
    }
   ],
   "source": [
    "print(depth_stack.shape)"
   ]
  },
  {
   "cell_type": "code",
   "execution_count": null,
   "id": "deb62e36",
   "metadata": {},
   "outputs": [],
   "source": []
  }
 ],
 "metadata": {
  "kernelspec": {
   "display_name": "Python 3",
   "language": "python",
   "name": "python3"
  },
  "language_info": {
   "codemirror_mode": {
    "name": "ipython",
    "version": 3
   },
   "file_extension": ".py",
   "mimetype": "text/x-python",
   "name": "python",
   "nbconvert_exporter": "python",
   "pygments_lexer": "ipython3",
   "version": "3.8.8"
  }
 },
 "nbformat": 4,
 "nbformat_minor": 5
}
